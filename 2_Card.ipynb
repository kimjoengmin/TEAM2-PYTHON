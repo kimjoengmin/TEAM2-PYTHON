{
  "nbformat": 4,
  "nbformat_minor": 0,
  "metadata": {
    "colab": {
      "provenance": []
    },
    "kernelspec": {
      "name": "python3",
      "display_name": "Python 3"
    },
    "language_info": {
      "name": "python"
    }
  },
  "cells": [
    {
      "cell_type": "code",
      "execution_count": 1,
      "metadata": {
        "id": "tFAJAR_3m020"
      },
      "outputs": [],
      "source": [
        "# ===== Cell 1: Imports =====\n",
        "import os\n",
        "import numpy as np\n",
        "import pandas as pd\n",
        "from sklearn.preprocessing import LabelEncoder, OneHotEncoder, StandardScaler\n",
        "from sklearn.impute import SimpleImputer\n",
        "from sklearn.model_selection import StratifiedKFold, KFold\n",
        "from sklearn.ensemble import RandomForestClassifier\n",
        "from xgboost import XGBClassifier\n",
        "from imblearn.over_sampling import SMOTE"
      ]
    },
    {
      "cell_type": "code",
      "source": [
        "# ===== Cell 2: 컬럼명 및 문자열 정규화 함수 =====\n",
        "\n",
        "def standardize_columns(df: pd.DataFrame) -> pd.DataFrame:\n",
        "    \"\"\"DataFrame의 컬럼명과 문자열 값을 소문자+언더스코어 형식으로 정규화하는 함수\"\"\"\n",
        "\n",
        "    # 원본 DataFrame을 변경하지 않기 위해 복사본 생성\n",
        "    df = df.copy()\n",
        "\n",
        "    # 컬럼명 정규화\n",
        "    df.columns = (\n",
        "        df.columns\n",
        "          .str.strip()  # 컬럼명 양쪽 공백 제거\n",
        "          .str.lower()  # 소문자 변환\n",
        "          .str.replace(' ', '_', regex=False)  # 공백을 언더스코어로 변경\n",
        "          .str.replace(r'[^0-9a-zA-Z_]', '', regex=True)  # 알파벳, 숫자, 언더스코어 제외한 특수문자 제거\n",
        "    )\n",
        "\n",
        "    # 문자열 또는 카테고리 타입 컬럼 값 정규화\n",
        "    for col in df.select_dtypes(include=['object', 'category']):\n",
        "        df[col] = (\n",
        "            df[col].astype(str)  # 값을 문자열로 변환\n",
        "                   .str.strip()  # 값 양쪽 공백 제거\n",
        "                   .str.replace(' ', '_', regex=False)  # 공백을 언더스코어로 변경\n",
        "        )\n",
        "\n",
        "    # 정규화된 DataFrame 반환\n",
        "    return df\n"
      ],
      "metadata": {
        "id": "-_afGHTrm2bV"
      },
      "execution_count": 2,
      "outputs": []
    },
    {
      "cell_type": "code",
      "source": [
        "# ===== Cell 3: ID 및 결측치 비율 높은 컬럼 제거 함수 =====\n",
        "\n",
        "def drop_id_unnamed_and_missing(df: pd.DataFrame, missing_thresh: float = 0.5) -> pd.DataFrame:\n",
        "    \"\"\"ID/Unnamed 컬럼 및 결측치 비율이 지정 기준 이상인 컬럼을 제거하는 함수\"\"\"\n",
        "\n",
        "    # 원본 DataFrame을 변경하지 않기 위해 복사본 생성\n",
        "    df = df.copy()\n",
        "\n",
        "    # 'Unnamed'로 시작하거나 'id'로 끝나는 컬럼명을 찾기\n",
        "    to_drop = df.columns[df.columns.str.contains(r'^(?:unnamed)|id$', case=False, regex=True)]\n",
        "\n",
        "    # 해당 컬럼들 제거\n",
        "    df = df.drop(columns=to_drop)\n",
        "\n",
        "    # 컬럼별 결측치 비율 계산\n",
        "    missing = df.isnull().mean()\n",
        "\n",
        "    # 결측치 비율이 missing_thresh(기본값 0.5) 초과인 컬럼 제거\n",
        "    df = df.drop(columns=missing[missing > missing_thresh].index)\n",
        "\n",
        "    # 처리된 DataFrame 반환\n",
        "    return df\n"
      ],
      "metadata": {
        "id": "sF9yNBkEm5XL"
      },
      "execution_count": 3,
      "outputs": []
    },
    {
      "cell_type": "code",
      "source": [
        "# ===== Cell 4: 결측치 대치(Imputation) 함수 =====\n",
        "\n",
        "def impute_missing(df: pd.DataFrame) -> pd.DataFrame:\n",
        "    \"\"\"수치형 컬럼은 중간값(median), 범주형 컬럼은 최빈값(most frequent)으로 결측치를 대치하는 함수\"\"\"\n",
        "\n",
        "    # 원본 DataFrame을 변경하지 않기 위해 복사본 생성\n",
        "    df = df.copy()\n",
        "\n",
        "    # 수치형(numeric) 컬럼 목록 추출\n",
        "    num_cols = df.select_dtypes(include=np.number).columns.tolist()\n",
        "\n",
        "    # 범주형(object, category, bool) 컬럼 목록 추출\n",
        "    cat_cols = df.select_dtypes(include=['object', 'category', 'bool']).columns.tolist()\n",
        "\n",
        "    # 수치형 컬럼의 결측치: 중간값(median)으로 대치\n",
        "    if num_cols:\n",
        "        df[num_cols] = pd.DataFrame(\n",
        "            SimpleImputer(strategy='median').fit_transform(df[num_cols]),\n",
        "            columns=num_cols\n",
        "        )\n",
        "\n",
        "    # 범주형 컬럼의 결측치: 최빈값(most frequent)으로 대치\n",
        "    if cat_cols:\n",
        "        df[cat_cols] = pd.DataFrame(\n",
        "            SimpleImputer(strategy='most_frequent').fit_transform(df[cat_cols]),\n",
        "            columns=cat_cols\n",
        "        )\n",
        "\n",
        "    # 결측치가 대치된 DataFrame 반환\n",
        "    return df\n"
      ],
      "metadata": {
        "id": "GRAo0dtkm5v-"
      },
      "execution_count": 4,
      "outputs": []
    },
    {
      "cell_type": "code",
      "source": [
        "# ===== Cell 5: 이상치 제거 함수 (IQR 기준) =====\n",
        "\n",
        "def remove_outliers(df: pd.DataFrame, max_removal: float = 0.2) -> pd.DataFrame:\n",
        "    \"\"\"IQR(Interquartile Range) 기준으로 이상치를 제거하되, 전체 데이터의 max_removal 비율 이하만 제거하는 함수\"\"\"\n",
        "\n",
        "    # 원본 DataFrame을 변경하지 않기 위해 복사본 생성\n",
        "    df = df.copy()\n",
        "\n",
        "    # 전체 행(row) 수 저장\n",
        "    total = len(df)\n",
        "\n",
        "    # 수치형 컬럼들에 대해 이상치 제거 진행\n",
        "    for col in df.select_dtypes(include=np.number):\n",
        "        # 1사분위수(Q1)와 3사분위수(Q3) 계산\n",
        "        Q1, Q3 = df[col].quantile([0.25, 0.75])\n",
        "\n",
        "        # IQR(Interquartile Range) 계산\n",
        "        IQR = Q3 - Q1\n",
        "\n",
        "        # IQR 범위 내에 있는 데이터만 True인 mask 생성\n",
        "        mask = df[col].between(Q1 - 1.5 * IQR, Q3 + 1.5 * IQR)\n",
        "\n",
        "        # 남게 될 데이터가 전체의 (1 - max_removal) 이상인 경우에만 이상치 제거 수행\n",
        "        if mask.sum() > (1 - max_removal) * total:\n",
        "            df = df[mask]\n",
        "\n",
        "    # 이상치가 제거된 DataFrame 반환\n",
        "    return df\n"
      ],
      "metadata": {
        "id": "e3zUOeiGm6BF"
      },
      "execution_count": 5,
      "outputs": []
    },
    {
      "cell_type": "code",
      "source": [
        "# ===== Cell 6: 높은 상관관계 컬럼 제거 함수 =====\n",
        "\n",
        "def drop_highly_correlated(df: pd.DataFrame, threshold: float = 0.95) -> pd.DataFrame:\n",
        "    \"\"\"수치형 컬럼 중 상관계수(절댓값)가 threshold 이상인 컬럼을 제거하는 함수\"\"\"\n",
        "\n",
        "    # 원본 DataFrame을 변경하지 않기 위해 복사본 생성\n",
        "    df = df.copy()\n",
        "\n",
        "    # 수치형 컬럼끼리의 상관계수 행렬 계산 (절댓값 기준)\n",
        "    corr = df.select_dtypes(include=np.number).corr().abs()\n",
        "\n",
        "    # 상삼각행렬(Upper Triangle)만 선택 (중복 비교 방지)\n",
        "    upper = corr.where(np.triu(np.ones(corr.shape), k=1).astype(bool))\n",
        "\n",
        "    # threshold를 초과하는 상관관계가 있는 컬럼 리스트 추출\n",
        "    to_drop = [c for c in upper.columns if any(upper[c] > threshold)]\n",
        "\n",
        "    # 해당 컬럼들 제거 후 반환\n",
        "    return df.drop(columns=to_drop)\n"
      ],
      "metadata": {
        "id": "xMYuutp5m6Nw"
      },
      "execution_count": 6,
      "outputs": []
    },
    {
      "cell_type": "code",
      "source": [
        "# ===== Cell 7: 범주형 인코딩 및 수치형 스케일링 함수 =====\n",
        "\n",
        "def encode_and_normalize(X: pd.DataFrame, max_onehot: int = 10) -> pd.DataFrame:\n",
        "    \"\"\"범주형 변수는 Label/OneHot 인코딩, 수치형 변수는 StandardScaler로 정규화하는 함수\"\"\"\n",
        "\n",
        "    # 원본 DataFrame을 변경하지 않기 위해 복사본 생성\n",
        "    X = X.copy()\n",
        "\n",
        "    # 범주형(object, category, bool) 컬럼 인코딩\n",
        "    for col in X.select_dtypes(include=['object', 'category', 'bool']):\n",
        "        nun = X[col].nunique()  # 고유값 개수\n",
        "\n",
        "        if nun <= 2:\n",
        "            # 고유값이 2개 이하 → Label Encoding\n",
        "            X[col] = LabelEncoder().fit_transform(X[col])\n",
        "\n",
        "        elif nun <= max_onehot:\n",
        "            # 고유값이 max_onehot 이하 → One-Hot Encoding\n",
        "            ohe = OneHotEncoder(sparse=False, handle_unknown='ignore')\n",
        "            arr = ohe.fit_transform(X[[col]])\n",
        "            cols = [f\"{col}_{cat}\" for cat in ohe.categories_[0]]  # 새 컬럼명 생성\n",
        "            X[cols] = arr\n",
        "            X = X.drop(columns=[col])\n",
        "\n",
        "        else:\n",
        "            # 고유값이 많으면 해당 컬럼 삭제\n",
        "            X = X.drop(columns=[col])\n",
        "\n",
        "    # 수치형 컬럼 정규화 (StandardScaler 적용)\n",
        "    num_cols = X.select_dtypes(include=np.number).columns\n",
        "    X[num_cols] = StandardScaler().fit_transform(X[num_cols])\n",
        "\n",
        "    # 변환된 DataFrame 반환\n",
        "    return X\n"
      ],
      "metadata": {
        "id": "V910LHg5m9eA"
      },
      "execution_count": 7,
      "outputs": []
    },
    {
      "cell_type": "code",
      "source": [
        "# ===== Cell 8: 데이터 전처리 전체 프로세스 함수 =====\n",
        "\n",
        "def preprocess(input_file: str, target_col: str,\n",
        "               missing_thresh: float = 0.5,\n",
        "               max_removal: float = 0.2,\n",
        "               corr_thresh: float = 0.95,\n",
        "               max_onehot: int = 10) -> str:\n",
        "    \"\"\"CSV 파일을 로드하고, 전처리 과정을 거쳐, 전처리된 CSV 파일로 저장하는 함수\"\"\"\n",
        "\n",
        "    # CSV 파일 읽기\n",
        "    df = pd.read_csv(input_file)\n",
        "\n",
        "    # 타겟 컬럼(target_col)이 결측인 행 제거 후 인덱스 리셋\n",
        "    df = df.dropna(subset=[target_col]).reset_index(drop=True)\n",
        "\n",
        "    # 타겟 y 분리\n",
        "    y = df[target_col]\n",
        "\n",
        "    # 입력 피처 X 준비 (타겟 컬럼 제외)\n",
        "    X = df.drop(columns=[target_col])\n",
        "\n",
        "    # 1. 컬럼명 및 문자열 정규화\n",
        "    X = standardize_columns(X)\n",
        "\n",
        "    # 2. ID/Unnamed 컬럼 및 결측치 비율 높은 컬럼 제거\n",
        "    X = drop_id_unnamed_and_missing(X, missing_thresh)\n",
        "\n",
        "    # 3. 결측치 대치 (수치형: 중간값, 범주형: 최빈값)\n",
        "    X = impute_missing(X)\n",
        "\n",
        "    # 4. 이상치 제거 (IQR 기준)\n",
        "    X = remove_outliers(X, max_removal)\n",
        "\n",
        "    # 5. 높은 상관관계 컬럼 제거\n",
        "    X = drop_highly_correlated(X, corr_thresh)\n",
        "\n",
        "    # 6. 인코딩 및 스케일링\n",
        "    X = encode_and_normalize(X, max_onehot)\n",
        "\n",
        "    # y도 X의 인덱스에 맞춰 리셋\n",
        "    y = y.loc[X.index].reset_index(drop=True)\n",
        "\n",
        "    # 파일명 구성 (입력 파일명 기반)\n",
        "    base = os.path.splitext(os.path.basename(input_file))[0]\n",
        "    out_file = f\"processed_{base}.csv\"\n",
        "\n",
        "    # X와 y를 합쳐서 CSV로 저장\n",
        "    pd.concat([X.reset_index(drop=True), y], axis=1).to_csv(out_file, index=False)\n",
        "\n",
        "    # 저장 경로 출력\n",
        "    print(f\"[INFO] Processed data saved to: {out_file}\")\n",
        "\n",
        "    return out_file\n"
      ],
      "metadata": {
        "id": "SZ-GrxGLnKUs"
      },
      "execution_count": 8,
      "outputs": []
    },
    {
      "cell_type": "code",
      "source": [
        "# ===== Cell 9: 메인 실행 코드 =====\n",
        "input_file = '2_Card.csv'\n",
        "\n",
        "processed_path = preprocess(input_file, 'default.payment.next.month')"
      ],
      "metadata": {
        "id": "hKHrRwQJnROE",
        "colab": {
          "base_uri": "https://localhost:8080/"
        },
        "outputId": "2b62e17d-8df1-43b2-e465-f70376524484"
      },
      "execution_count": 10,
      "outputs": [
        {
          "output_type": "stream",
          "name": "stdout",
          "text": [
            "[INFO] Processed data saved to: processed_2_Card.csv\n"
          ]
        }
      ]
    },
    {
      "cell_type": "code",
      "source": [],
      "metadata": {
        "id": "6a5USXTa86j9"
      },
      "execution_count": null,
      "outputs": []
    }
  ]
}