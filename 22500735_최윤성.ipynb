{
  "nbformat": 4,
  "nbformat_minor": 0,
  "metadata": {
    "colab": {
      "provenance": [],
      "authorship_tag": "ABX9TyMWR0DspFhAas1mheDzQRD6",
      "include_colab_link": true
    },
    "kernelspec": {
      "name": "python3",
      "display_name": "Python 3"
    },
    "language_info": {
      "name": "python"
    }
  },
  "cells": [
    {
      "cell_type": "markdown",
      "metadata": {
        "id": "view-in-github",
        "colab_type": "text"
      },
      "source": [
        "<a href=\"https://colab.research.google.com/github/kimjoengmin/TEAM2-PYTHON/blob/main/22500735_%EC%B5%9C%EC%9C%A4%EC%84%B1.ipynb\" target=\"_parent\"><img src=\"https://colab.research.google.com/assets/colab-badge.svg\" alt=\"Open In Colab\"/></a>"
      ]
    },
    {
      "cell_type": "code",
      "execution_count": null,
      "metadata": {
        "id": "tFAJAR_3m020"
      },
      "outputs": [],
      "source": [
        "# ===== Cell 1: Imports =====\n",
        "import os\n",
        "import numpy as np\n",
        "import pandas as pd\n",
        "from sklearn.preprocessing import LabelEncoder, OneHotEncoder, StandardScaler\n",
        "from sklearn.impute import SimpleImputer\n",
        "from sklearn.model_selection import StratifiedKFold, KFold\n",
        "from sklearn.ensemble import RandomForestClassifier\n",
        "from xgboost import XGBClassifier\n",
        "from imblearn.over_sampling import SMOTE"
      ]
    },
    {
      "cell_type": "code",
      "source": [
        "# ===== Cell 2: Helper Functions =====\n",
        "\n",
        "def standardize_columns(df: pd.DataFrame) -> pd.DataFrame:\n",
        "    \"\"\"컬럼명 및 문자열 값을 소문자_언더스코어 형식으로 정규화\"\"\"\n",
        "    df = df.copy()\n",
        "    df.columns = (\n",
        "        df.columns\n",
        "          .str.strip()\n",
        "          .str.lower()\n",
        "          .str.replace(' ', '_', regex=False)\n",
        "          .str.replace(r'[^0-9a-zA-Z_]', '', regex=True)\n",
        "    )\n",
        "    for col in df.select_dtypes(include=['object', 'category']):\n",
        "        df[col] = (\n",
        "            df[col].astype(str)\n",
        "                   .str.strip()\n",
        "                   .str.replace(' ', '_', regex=False)\n",
        "        )\n",
        "    return df"
      ],
      "metadata": {
        "id": "-_afGHTrm2bV"
      },
      "execution_count": null,
      "outputs": []
    },
    {
      "cell_type": "code",
      "source": [
        "# ===== Cell 3: Helper Functions =====\n",
        "def drop_id_unnamed_and_missing(df: pd.DataFrame, missing_thresh: float = 0.5) -> pd.DataFrame:\n",
        "    \"\"\"ID/Unnamed 컬럼 및 결측치 비율이 높은 컬럼 제거\"\"\"\n",
        "    df = df.copy()\n",
        "    to_drop = df.columns[df.columns.str.contains(r'^(?:unnamed)|id$', case=False, regex=True)]\n",
        "    df = df.drop(columns=to_drop)\n",
        "    missing = df.isnull().mean()\n",
        "    df = df.drop(columns=missing[missing > missing_thresh].index)\n",
        "    return df"
      ],
      "metadata": {
        "id": "sF9yNBkEm5XL"
      },
      "execution_count": null,
      "outputs": []
    },
    {
      "cell_type": "code",
      "source": [
        "# ===== Cell 4: Helper Functions =====\n",
        "def impute_missing(df: pd.DataFrame) -> pd.DataFrame:\n",
        "    \"\"\"수치형 중간값, 범주형 최빈값으로 결측치 대치\"\"\"\n",
        "    df = df.copy()\n",
        "    num_cols = df.select_dtypes(include=np.number).columns.tolist()\n",
        "    cat_cols = df.select_dtypes(include=['object', 'category', 'bool']).columns.tolist()\n",
        "    if num_cols:\n",
        "        df[num_cols] = pd.DataFrame(\n",
        "            SimpleImputer(strategy='median').fit_transform(df[num_cols]),\n",
        "            columns=num_cols\n",
        "        )\n",
        "    if cat_cols:\n",
        "        df[cat_cols] = pd.DataFrame(\n",
        "            SimpleImputer(strategy='most_frequent').fit_transform(df[cat_cols]),\n",
        "            columns=cat_cols\n",
        "        )\n",
        "    return df"
      ],
      "metadata": {
        "id": "GRAo0dtkm5v-"
      },
      "execution_count": null,
      "outputs": []
    },
    {
      "cell_type": "code",
      "source": [
        "# ===== Cell 5: Helper Functions =====\n",
        "def remove_outliers(df: pd.DataFrame, max_removal: float = 0.2) -> pd.DataFrame:\n",
        "    \"\"\"IQR 기준 이상치 제거 (전체의 max_removal 이하만 제거)\"\"\"\n",
        "    df = df.copy()\n",
        "    total = len(df)\n",
        "    for col in df.select_dtypes(include=np.number):\n",
        "        Q1, Q3 = df[col].quantile([0.25, 0.75])\n",
        "        IQR = Q3 - Q1\n",
        "        mask = df[col].between(Q1 - 1.5 * IQR, Q3 + 1.5 * IQR)\n",
        "        if mask.sum() > (1 - max_removal) * total:\n",
        "            df = df[mask]\n",
        "    return df"
      ],
      "metadata": {
        "id": "e3zUOeiGm6BF"
      },
      "execution_count": null,
      "outputs": []
    },
    {
      "cell_type": "code",
      "source": [
        "# ===== Cell 6: Helper Functions =====\n",
        "def drop_highly_correlated(df: pd.DataFrame, threshold: float = 0.95) -> pd.DataFrame:\n",
        "    \"\"\"상관계수 절댓값이 threshold 이상인 컬럼 제거\"\"\"\n",
        "    df = df.copy()\n",
        "    corr = df.select_dtypes(include=np.number).corr().abs()\n",
        "    upper = corr.where(np.triu(np.ones(corr.shape), k=1).astype(bool))\n",
        "    to_drop = [c for c in upper.columns if any(upper[c] > threshold)]\n",
        "    return df.drop(columns=to_drop)"
      ],
      "metadata": {
        "id": "xMYuutp5m6Nw"
      },
      "execution_count": null,
      "outputs": []
    },
    {
      "cell_type": "code",
      "source": [
        "# ===== Cell 7: 인코딩 및 스케일링 =====\n",
        "def encode_and_normalize(X: pd.DataFrame, max_onehot: int = 10) -> pd.DataFrame:\n",
        "    \"\"\"범주형은 Label/OneHot, 수치형은 StandardScaler 적용\"\"\"\n",
        "    X = X.copy()\n",
        "    for col in X.select_dtypes(include=['object', 'category', 'bool']):\n",
        "        nun = X[col].nunique()\n",
        "        if nun <= 2:\n",
        "            X[col] = LabelEncoder().fit_transform(X[col])\n",
        "        elif nun <= max_onehot:\n",
        "            ohe = OneHotEncoder(sparse=False, handle_unknown='ignore')\n",
        "            arr = ohe.fit_transform(X[[col]])\n",
        "            cols = [f\"{col}_{cat}\" for cat in ohe.categories_[0]]\n",
        "            X[cols] = arr\n",
        "            X = X.drop(columns=[col])\n",
        "        else:\n",
        "            X = X.drop(columns=[col])\n",
        "    num_cols = X.select_dtypes(include=np.number).columns\n",
        "    X[num_cols] = StandardScaler().fit_transform(X[num_cols])\n",
        "    return X"
      ],
      "metadata": {
        "id": "V910LHg5m9eA"
      },
      "execution_count": null,
      "outputs": []
    },
    {
      "cell_type": "code",
      "source": [
        "# ===== Cell 8: 함수 프로세싱 =====\n",
        "def preprocess(input_file: str, target_col: str,\n",
        "               missing_thresh: float = 0.5,\n",
        "               max_removal: float = 0.2,\n",
        "               corr_thresh: float = 0.95,\n",
        "               max_onehot: int = 10) -> str:\n",
        "    \"\"\"CSV 로드→target 분리→feature 전처리→processed CSV 저장\"\"\"\n",
        "    df = pd.read_csv(input_file)\n",
        "    df = df.dropna(subset=[target_col]).reset_index(drop=True)\n",
        "    y = df[target_col]\n",
        "    X = df.drop(columns=[target_col])\n",
        "    X = standardize_columns(X)\n",
        "    X = drop_id_unnamed_and_missing(X, missing_thresh)\n",
        "    X = impute_missing(X)\n",
        "    X = remove_outliers(X, max_removal)\n",
        "    X = drop_highly_correlated(X, corr_thresh)\n",
        "    X = encode_and_normalize(X, max_onehot)\n",
        "    y = y.loc[X.index].reset_index(drop=True)\n",
        "    base = os.path.splitext(os.path.basename(input_file))[0]\n",
        "    out_file = f\"processed_{base}.csv\"\n",
        "    pd.concat([X.reset_index(drop=True), y], axis=1).to_csv(out_file, index=False)\n",
        "    print(f\"[INFO] Processed data saved to: {out_file}\")\n",
        "    return out_file"
      ],
      "metadata": {
        "id": "SZ-GrxGLnKUs"
      },
      "execution_count": null,
      "outputs": []
    },
    {
      "cell_type": "code",
      "source": [
        "# ===== Cell 9: 메인 실행 코드 =====\n",
        "input_file = '/content/9. univrank.csv'\n",
        "\n",
        "processed_path = preprocess(input_file, 'country')"
      ],
      "metadata": {
        "colab": {
          "base_uri": "https://localhost:8080/"
        },
        "id": "hKHrRwQJnROE",
        "outputId": "cfb4012f-06bb-4d3d-a9c6-2c2653d5dc23"
      },
      "execution_count": null,
      "outputs": [
        {
          "output_type": "stream",
          "name": "stdout",
          "text": [
            "[INFO] Processed data saved to: processed_9. univrank.csv\n"
          ]
        }
      ]
    },
    {
      "cell_type": "code",
      "source": [],
      "metadata": {
        "id": "DpI_0E21qYHF"
      },
      "execution_count": null,
      "outputs": []
    }
  ]
}